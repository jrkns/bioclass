{
 "cells": [
  {
   "cell_type": "markdown",
   "metadata": {},
   "source": [
    "# Bioinformatics mini project\n",
    "\n",
    "Identify miRNAsite on lncRNA using deep neural network model"
   ]
  },
  {
   "cell_type": "code",
   "execution_count": 1,
   "metadata": {},
   "outputs": [
    {
     "name": "stderr",
     "output_type": "stream",
     "text": [
      "/usr/local/Cellar/python3/3.6.3/Frameworks/Python.framework/Versions/3.6/lib/python3.6/site-packages/h5py/__init__.py:36: FutureWarning: Conversion of the second argument of issubdtype from `float` to `np.floating` is deprecated. In future, it will be treated as `np.float64 == np.dtype(float).type`.\n",
      "  from ._conv import register_converters as _register_converters\n",
      "Using TensorFlow backend.\n"
     ]
    }
   ],
   "source": [
    "%matplotlib inline\n",
    "import matplotlib.pyplot as plt\n",
    "import numpy as np\n",
    "import pandas as pd\n",
    "import math\n",
    "import glob\n",
    "import re\n",
    "import random\n",
    "import collections\n",
    "import os\n",
    "import sys\n",
    "import json\n",
    "import pickle\n",
    "\n",
    "from keras.preprocessing import sequence\n",
    "from keras.models import Sequential, Model\n",
    "from keras.layers import GRU, Dropout, LSTM\n",
    "from keras.models import load_model\n",
    "from keras.layers import Embedding, Reshape, Activation, Input, Dense, Masking, Conv1D, MaxPooling1D, Bidirectional\n",
    "from keras.layers.merge import Dot\n",
    "from keras.utils import np_utils\n",
    "from keras.utils.data_utils import get_file\n",
    "from keras.utils.np_utils import to_categorical\n",
    "from keras import backend as K\n",
    "from keras.optimizers import Adam, RMSprop, SGD\n",
    "from keras.callbacks import ModelCheckpoint, CSVLogger, History\n",
    "\n",
    "def load(name):\n",
    "    try:\n",
    "        with open(name, \"rb\") as f:\n",
    "            data = pickle.load(f)\n",
    "    except Exception as e:\n",
    "        print(e)\n",
    "        data = []\n",
    "    return data\n",
    "\n",
    "def save(obj,name):\n",
    "    with open(name, \"wb\") as f:\n",
    "        pickle.dump(obj, f, protocol=3)\n",
    "    return"
   ]
  },
  {
   "cell_type": "code",
   "execution_count": 2,
   "metadata": {},
   "outputs": [
    {
     "data": {
      "text/html": [
       "<div>\n",
       "<style scoped>\n",
       "    .dataframe tbody tr th:only-of-type {\n",
       "        vertical-align: middle;\n",
       "    }\n",
       "\n",
       "    .dataframe tbody tr th {\n",
       "        vertical-align: top;\n",
       "    }\n",
       "\n",
       "    .dataframe thead th {\n",
       "        text-align: right;\n",
       "    }\n",
       "</style>\n",
       "<table border=\"1\" class=\"dataframe\">\n",
       "  <thead>\n",
       "    <tr style=\"text-align: right;\">\n",
       "      <th></th>\n",
       "      <th>lncRNA:miRNA</th>\n",
       "      <th>Target Location</th>\n",
       "      <th>miRNA</th>\n",
       "      <th>ncRNA</th>\n",
       "    </tr>\n",
       "  </thead>\n",
       "  <tbody>\n",
       "    <tr>\n",
       "      <th>0</th>\n",
       "      <td>CTA-204B4.6:hsa-miR-200b-3p</td>\n",
       "      <td>chr8:141537414-141537439[-]</td>\n",
       "      <td>3'-agtaGTAATGG----TCCGTCATAAt-5'</td>\n",
       "      <td>5'-gagaCACTGCCTCGTATTCAGTATTa-3'</td>\n",
       "    </tr>\n",
       "    <tr>\n",
       "      <th>1</th>\n",
       "      <td>CTD-2630F21.1:hsa-miR-200b-3p</td>\n",
       "      <td>chr19:36981279-36981298[+]</td>\n",
       "      <td>3'-agTAGTAATGGTCCGTCATAAt-5'</td>\n",
       "      <td>5'-gtATC-TCA-TGGCCAGTATTt-3'</td>\n",
       "    </tr>\n",
       "    <tr>\n",
       "      <th>2</th>\n",
       "      <td>CTB-92J24.2:hsa-miR-200b-3p</td>\n",
       "      <td>chr19:24111074-24111096[+]</td>\n",
       "      <td>3'-agTAGTA-ATGGTCCGTCATAAt-5'</td>\n",
       "      <td>5'-aaGTTATCCACTCTCCAGTATTc-3'</td>\n",
       "    </tr>\n",
       "    <tr>\n",
       "      <th>3</th>\n",
       "      <td>RP11-473I1.10:hsa-miR-200b-3p</td>\n",
       "      <td>chr16:9205929-9205951[+]</td>\n",
       "      <td>3'-agtAG-TAATGGTCCGTCATAAt-5'</td>\n",
       "      <td>5'-attTCAATAAAAATTCAGTATTa-3'</td>\n",
       "    </tr>\n",
       "    <tr>\n",
       "      <th>4</th>\n",
       "      <td>AC005154.5:hsa-miR-200b-3p</td>\n",
       "      <td>chr7:30617568-30617592[-]</td>\n",
       "      <td>3'-agTAGTAATGGTCC---GTCATAAt-5'</td>\n",
       "      <td>5'-gcAATAATACTTGGCCCCAGTATTg-3'</td>\n",
       "    </tr>\n",
       "  </tbody>\n",
       "</table>\n",
       "</div>"
      ],
      "text/plain": [
       "                    lncRNA:miRNA              Target Location  \\\n",
       "0    CTA-204B4.6:hsa-miR-200b-3p  chr8:141537414-141537439[-]   \n",
       "1  CTD-2630F21.1:hsa-miR-200b-3p   chr19:36981279-36981298[+]   \n",
       "2    CTB-92J24.2:hsa-miR-200b-3p   chr19:24111074-24111096[+]   \n",
       "3  RP11-473I1.10:hsa-miR-200b-3p     chr16:9205929-9205951[+]   \n",
       "4     AC005154.5:hsa-miR-200b-3p    chr7:30617568-30617592[-]   \n",
       "\n",
       "                              miRNA                             ncRNA  \n",
       "0  3'-agtaGTAATGG----TCCGTCATAAt-5'  5'-gagaCACTGCCTCGTATTCAGTATTa-3'  \n",
       "1      3'-agTAGTAATGGTCCGTCATAAt-5'      5'-gtATC-TCA-TGGCCAGTATTt-3'  \n",
       "2     3'-agTAGTA-ATGGTCCGTCATAAt-5'     5'-aaGTTATCCACTCTCCAGTATTc-3'  \n",
       "3     3'-agtAG-TAATGGTCCGTCATAAt-5'     5'-attTCAATAAAAATTCAGTATTa-3'  \n",
       "4   3'-agTAGTAATGGTCC---GTCATAAt-5'   5'-gcAATAATACTTGGCCCCAGTATTg-3'  "
      ]
     },
     "execution_count": 2,
     "metadata": {},
     "output_type": "execute_result"
    }
   ],
   "source": [
    "# Don't need to run this cell\n",
    "data = load('starbase_crawl.pkl')\n",
    "\n",
    "for i in range(len(data)):\n",
    "    a, b, c, d = data[i]\n",
    "    e = d.replace('ncRNA ','')\n",
    "    data[i] = (a,b,c,e)\n",
    "\n",
    "head = (\"lncRNA:miRNA\", \"Target Location\", \"miRNA\", \"ncRNA\")\n",
    "df = pd.DataFrame(data = data, columns = head)\n",
    "df.head()"
   ]
  },
  {
   "cell_type": "code",
   "execution_count": 3,
   "metadata": {},
   "outputs": [
    {
     "data": {
      "text/html": [
       "<div>\n",
       "<style scoped>\n",
       "    .dataframe tbody tr th:only-of-type {\n",
       "        vertical-align: middle;\n",
       "    }\n",
       "\n",
       "    .dataframe tbody tr th {\n",
       "        vertical-align: top;\n",
       "    }\n",
       "\n",
       "    .dataframe thead th {\n",
       "        text-align: right;\n",
       "    }\n",
       "</style>\n",
       "<table border=\"1\" class=\"dataframe\">\n",
       "  <thead>\n",
       "    <tr style=\"text-align: right;\">\n",
       "      <th></th>\n",
       "      <th>name</th>\n",
       "      <th>sequence</th>\n",
       "    </tr>\n",
       "  </thead>\n",
       "  <tbody>\n",
       "    <tr>\n",
       "      <th>0</th>\n",
       "      <td>lnc-C8orf56-1:8</td>\n",
       "      <td>AGAGGTGCCTCCCTTCCTTGAAACTTCTTCACCTTTGCTTCAAGAG...</td>\n",
       "    </tr>\n",
       "    <tr>\n",
       "      <th>1</th>\n",
       "      <td>lnc-PRYP4-3:1</td>\n",
       "      <td>TTCCAGTCAATGATTTTGGATTCCATTTTTTTGCATTCCATTACAT...</td>\n",
       "    </tr>\n",
       "    <tr>\n",
       "      <th>2</th>\n",
       "      <td>lnc-TTLL7-2:5</td>\n",
       "      <td>ACCGTTGCTCAGAGTCCAGGCCGGTTAGGACCAGAGCCTACCCCGG...</td>\n",
       "    </tr>\n",
       "    <tr>\n",
       "      <th>3</th>\n",
       "      <td>lnc-CLEC18B-3:5</td>\n",
       "      <td>GTAGATCATCATCATAACAGCTCCCAGTGAATCAATGCCTCCCTGC...</td>\n",
       "    </tr>\n",
       "    <tr>\n",
       "      <th>4</th>\n",
       "      <td>lnc-GPR119-1:1</td>\n",
       "      <td>TACTCTGGCCACCACGATCTTGGCAGCCCACACCTGATCAGGACCT...</td>\n",
       "    </tr>\n",
       "  </tbody>\n",
       "</table>\n",
       "</div>"
      ],
      "text/plain": [
       "              name                                           sequence\n",
       "0  lnc-C8orf56-1:8  AGAGGTGCCTCCCTTCCTTGAAACTTCTTCACCTTTGCTTCAAGAG...\n",
       "1    lnc-PRYP4-3:1  TTCCAGTCAATGATTTTGGATTCCATTTTTTTGCATTCCATTACAT...\n",
       "2    lnc-TTLL7-2:5  ACCGTTGCTCAGAGTCCAGGCCGGTTAGGACCAGAGCCTACCCCGG...\n",
       "3  lnc-CLEC18B-3:5  GTAGATCATCATCATAACAGCTCCCAGTGAATCAATGCCTCCCTGC...\n",
       "4   lnc-GPR119-1:1  TACTCTGGCCACCACGATCTTGGCAGCCCACACCTGATCAGGACCT..."
      ]
     },
     "execution_count": 3,
     "metadata": {},
     "output_type": "execute_result"
    }
   ],
   "source": [
    "# Don't need to run this cell\n",
    "database_file = open('lncipedia_3_1.fasta.txt','r')\n",
    "database = []\n",
    "name = ''\n",
    "seq = ''\n",
    "for line in database_file:\n",
    "    if line[0] == '>':\n",
    "        if name != '':\n",
    "            database.append((name, seq))\n",
    "            name = ''\n",
    "            seq = ''\n",
    "        name = line[1:].replace('\\n','')\n",
    "    else:\n",
    "        seq += line.replace('\\n','')\n",
    "\n",
    "sb_head = (\"name\", \"sequence\")\n",
    "starbase = pd.DataFrame(data = database, columns = sb_head)\n",
    "\n",
    "starbase.head()"
   ]
  },
  {
   "cell_type": "code",
   "execution_count": 2,
   "metadata": {},
   "outputs": [],
   "source": [
    "starbase = load('data/starbase.pkl')\n",
    "df = load('data/df.pkl')\n",
    "starbaseMap = load('data/prep_data.pkl')"
   ]
  },
  {
   "cell_type": "code",
   "execution_count": 3,
   "metadata": {},
   "outputs": [],
   "source": [
    "ncRNA = df['ncRNA']\n",
    "starbaseSEQ = starbase['sequence']\n",
    "starbaseName = starbase['name']"
   ]
  },
  {
   "cell_type": "code",
   "execution_count": 4,
   "metadata": {},
   "outputs": [
    {
     "name": "stdout",
     "output_type": "stream",
     "text": [
      "[0, 0, 0, 0, 0, 0, 0, 1187, 497, 373, 330, 327, 412, 445, 607, 634, 782, 939, 950, 1024, 721, 412, 260, 166, 86, 40, 11, 5, 2, 2, 0, 0, 0, 0, 0]\n"
     ]
    },
    {
     "data": {
      "text/plain": [
       "[<matplotlib.lines.Line2D at 0x115784dd8>]"
      ]
     },
     "execution_count": 4,
     "metadata": {},
     "output_type": "execute_result"
    },
    {
     "data": {
      "image/png": "[encoded data removed]",
      "text/plain": [
       "<matplotlib.figure.Figure at 0x102fc6b38>"
      ]
     },
     "metadata": {},
     "output_type": "display_data"
    }
   ],
   "source": [
    "# miRNAsite length distibution\n",
    "stat = [0]*35\n",
    "for raw_rna in ncRNA:\n",
    "    count = 0\n",
    "    rna = raw_rna[2:-2].replace('-','')\n",
    "    for c in rna:\n",
    "        if c.upper() == c and c != '-':\n",
    "            count += 1\n",
    "    stat[count] +=1\n",
    "print(stat)\n",
    "plt.plot(stat)"
   ]
  },
  {
   "cell_type": "code",
   "execution_count": 5,
   "metadata": {},
   "outputs": [
    {
     "name": "stdout",
     "output_type": "stream",
     "text": [
      "[36897, 43989, 9828, 6716, 5059, 3004, 1827, 1348, 789, 590, 413, 270, 194, 156, 113, 73, 68, 58, 32, 258]\n"
     ]
    },
    {
     "data": {
      "text/plain": [
       "[<matplotlib.lines.Line2D at 0x1158a6358>]"
      ]
     },
     "execution_count": 5,
     "metadata": {},
     "output_type": "execute_result"
    },
    {
     "data": {
      "image/png": "[encoded data removed]",
      "text/plain": [
       "<matplotlib.figure.Figure at 0x102f24ef0>"
      ]
     },
     "metadata": {},
     "output_type": "display_data"
    }
   ],
   "source": [
    "# lncRNA length distibution (<500, <1000, <1500 ... >10000)\n",
    "stat = [0]*20\n",
    "for rna in starbaseSEQ:\n",
    "    stat[min(len(rna)//500,19)] +=1\n",
    "print(stat)\n",
    "plt.plot(stat)"
   ]
  },
  {
   "cell_type": "code",
   "execution_count": 6,
   "metadata": {},
   "outputs": [],
   "source": [
    "CHARS = ['A','T','C','G','N','P']\n",
    "CHARS_MAP = {v: k for k, v in enumerate(CHARS)}\n",
    "char = np.array(CHARS)\n",
    "classes = {'0':0, '1': 1}\n",
    "window_size = 500"
   ]
  },
  {
   "cell_type": "markdown",
   "metadata": {},
   "source": [
    "## New "
   ]
  },
  {
   "cell_type": "code",
   "execution_count": 6,
   "metadata": {},
   "outputs": [
    {
     "name": "stdout",
     "output_type": "stream",
     "text": [
      "datasets: 16736\n"
     ]
    }
   ],
   "source": [
    "datasets = []\n",
    "\n",
    "for i in range(len(starbaseMap)):\n",
    "    bind_site, full_seqs = starbaseMap[i]\n",
    "    bind_site_raw = ncRNA[i][2:-2].replace('-','')\n",
    "    shift = 0\n",
    "    end = 0\n",
    "    while bind_site_raw[shift].upper() != bind_site_raw[shift]:\n",
    "        shift += 1\n",
    "        if shift >= len(bind_site_raw):\n",
    "            break\n",
    "    end += shift\n",
    "    if end < len(bind_site_raw):\n",
    "        while bind_site_raw[end].upper() == bind_site_raw[end]:\n",
    "            end += 1\n",
    "            if end >= len(bind_site_raw):\n",
    "                break\n",
    "    else:\n",
    "        end = end\n",
    "    full_seq_index = [int(e) for e in full_seqs.split()]\n",
    "    for index in full_seq_index:\n",
    "        seq = starbaseSEQ[index]\n",
    "        start = seq.index(bind_site)+shift\n",
    "        stop = start+end-shift\n",
    "        long = stop-start\n",
    "        \n",
    "        if len(seq) <= window_size:\n",
    "            seq_list = []\n",
    "            label = []\n",
    "            for s in seq:\n",
    "                seq_list.append(CHARS_MAP[s])\n",
    "            while len(seq_list) < window_size:\n",
    "                seq_list.append(CHARS_MAP['P'])\n",
    "            for i in range(len(seq)):\n",
    "                if i >= start and i < stop:\n",
    "                    label.append(1)\n",
    "                else:\n",
    "                    label.append(0)\n",
    "            while len(label) < window_size:\n",
    "                label.append(0)\n",
    "            datasets.append([seq_list, label])\n",
    "        \n",
    "print('datasets:',len(datasets))"
   ]
  },
  {
   "cell_type": "code",
   "execution_count": 7,
   "metadata": {
    "collapsed": true
   },
   "outputs": [],
   "source": [
    "save(datasets,'data/datasets-new-500-p.pkl')"
   ]
  },
  {
   "cell_type": "code",
   "execution_count": 8,
   "metadata": {},
   "outputs": [
    {
     "name": "stdout",
     "output_type": "stream",
     "text": [
      "[[0, 1, 1, 0, 3, 1, 0, 1, 1, 0, 2, 1, 0, 2, 1, 3, 3, 3, 2, 1, 2, 2, 0, 0, 3, 1, 1, 2, 2, 1, 2, 0, 1, 2, 1, 3, 0, 0, 0, 1, 2, 1, 3, 1, 2, 1, 2, 2, 1, 2, 1, 3, 3, 0, 0, 0, 1, 0, 2, 1, 1, 0, 1, 1, 1, 0, 2, 0, 0, 3, 0, 2, 3, 0, 2, 3, 1, 1, 1, 2, 1, 1, 3, 1, 2, 0, 2, 0, 0, 2, 3, 2, 0, 3, 3, 1, 1, 1, 0, 0, 0, 2, 0, 3, 2, 0, 3, 2, 1, 1, 1, 1, 0, 0, 0, 1, 3, 1, 1, 1, 0, 2, 1, 3, 1, 3, 3, 3, 0, 0, 3, 0, 0, 1, 0, 3, 1, 2, 0, 0, 3, 3, 3, 0, 3, 1, 3, 3, 1, 3, 2, 3, 1, 1, 3, 3, 3, 0, 0, 3, 0, 2, 0, 3, 0, 2, 2, 0, 3, 0, 3, 1, 1, 1, 3, 2, 1, 3, 2, 1, 3, 3, 2, 0, 2, 1, 3, 1, 1, 0, 2, 3, 2, 0, 3, 3, 3, 0, 2, 1, 3, 1, 1, 1, 3, 3, 2, 0, 1, 3, 0, 2, 2, 1, 1, 2, 0, 2, 1, 2, 2, 1, 1, 1, 1, 2, 1, 3, 3, 1, 1, 2, 1, 1, 1, 3, 3, 1, 2, 1, 1, 1, 2, 1, 0, 0, 3, 3, 1, 3, 3, 2, 2, 1, 2, 0, 0, 1, 1, 1, 2, 1, 1, 1, 0, 1, 2, 0, 3, 1, 0, 0, 0, 1, 0, 0, 3, 0, 1, 1, 0, 1, 2, 1, 2, 1, 3, 0, 3, 0, 1, 3, 1, 2, 0, 1, 1, 2, 0, 2, 1, 2, 0, 0, 0, 1, 0, 3, 2, 2, 0, 1, 1, 1, 1, 0, 1, 0, 0, 0, 0, 0, 1, 2, 1, 0, 2, 1, 1, 3, 2, 0, 1, 2, 1, 1, 2, 0, 0, 2, 1, 1, 2, 0, 1, 1, 2, 0, 2, 1, 3, 1, 3, 3, 0, 1, 1, 2, 3, 1, 1, 3, 1, 1, 1, 1, 2, 2, 1, 1, 1, 0, 1, 2, 1, 0, 3, 1, 1, 1, 1, 1, 0, 2, 0, 1, 1, 1, 1, 0, 2, 2, 1, 1, 1, 2, 0, 0, 3, 2, 2, 3, 3, 1, 3, 2, 1, 0, 1, 1, 3, 5, 5, 5, 5, 5, 5, 5, 5, 5, 5, 5, 5, 5, 5, 5, 5, 5, 5, 5, 5, 5, 5, 5, 5, 5, 5, 5, 5, 5, 5, 5, 5, 5, 5, 5, 5, 5, 5, 5, 5, 5, 5, 5, 5, 5, 5, 5, 5, 5, 5, 5, 5, 5, 5, 5, 5, 5, 5, 5, 5, 5, 5, 5, 5, 5, 5, 5, 5, 5, 5, 5, 5, 5, 5, 5, 5, 5, 5, 5, 5, 5, 5, 5, 5, 5, 5, 5, 5, 5], [0, 0, 0, 0, 0, 0, 0, 0, 0, 0, 0, 0, 0, 0, 0, 0, 0, 0, 0, 0, 0, 0, 0, 0, 0, 0, 0, 0, 0, 0, 0, 0, 0, 0, 0, 0, 0, 0, 0, 0, 0, 0, 0, 0, 0, 0, 0, 0, 0, 0, 0, 0, 0, 0, 0, 0, 0, 0, 0, 0, 0, 0, 0, 0, 0, 0, 0, 0, 0, 0, 0, 0, 0, 0, 0, 0, 0, 0, 0, 0, 0, 0, 0, 0, 0, 0, 0, 0, 0, 0, 0, 0, 0, 0, 0, 0, 0, 0, 0, 0, 0, 0, 0, 0, 0, 0, 0, 0, 0, 0, 0, 0, 0, 0, 0, 1, 1, 1, 1, 1, 1, 1, 0, 0, 0, 0, 0, 0, 0, 0, 0, 0, 0, 0, 0, 0, 0, 0, 0, 0, 0, 0, 0, 0, 0, 0, 0, 0, 0, 0, 0, 0, 0, 0, 0, 0, 0, 0, 0, 0, 0, 0, 0, 0, 0, 0, 0, 0, 0, 0, 0, 0, 0, 0, 0, 0, 0, 0, 0, 0, 0, 0, 0, 0, 0, 0, 0, 0, 0, 0, 0, 0, 0, 0, 0, 0, 0, 0, 0, 0, 0, 0, 0, 0, 0, 0, 0, 0, 0, 0, 0, 0, 0, 0, 0, 0, 0, 0, 0, 0, 0, 0, 0, 0, 0, 0, 0, 0, 0, 0, 0, 0, 0, 0, 0, 0, 0, 0, 0, 0, 0, 0, 0, 0, 0, 0, 0, 0, 0, 0, 0, 0, 0, 0, 0, 0, 0, 0, 0, 0, 0, 0, 0, 0, 0, 0, 0, 0, 0, 0, 0, 0, 0, 0, 0, 0, 0, 0, 0, 0, 0, 0, 0, 0, 0, 0, 0, 0, 0, 0, 0, 0, 0, 0, 0, 0, 0, 0, 0, 0, 0, 0, 0, 0, 0, 0, 0, 0, 0, 0, 0, 0, 0, 0, 0, 0, 0, 0, 0, 0, 0, 0, 0, 0, 0, 0, 0, 0, 0, 0, 0, 0, 0, 0, 0, 0, 0, 0, 0, 0, 0, 0, 0, 0, 0, 0, 0, 0, 0, 0, 0, 0, 0, 0, 0, 0, 0, 0, 0, 0, 0, 0, 0, 0, 0, 0, 0, 0, 0, 0, 0, 0, 0, 0, 0, 0, 0, 0, 0, 0, 0, 0, 0, 0, 0, 0, 0, 0, 0, 0, 0, 0, 0, 0, 0, 0, 0, 0, 0, 0, 0, 0, 0, 0, 0, 0, 0, 0, 0, 0, 0, 0, 0, 0, 0, 0, 0, 0, 0, 0, 0, 0, 0, 0, 0, 0, 0, 0, 0, 0, 0, 0, 0, 0, 0, 0, 0, 0, 0, 0, 0, 0, 0, 0, 0, 0, 0, 0, 0, 0, 0, 0, 0, 0, 0, 0, 0, 0, 0, 0, 0, 0, 0, 0, 0, 0, 0, 0, 0, 0, 0, 0, 0, 0, 0, 0, 0, 0, 0, 0, 0, 0, 0, 0, 0, 0, 0, 0, 0, 0, 0, 0, 0, 0, 0, 0, 0, 0, 0, 0]]\n"
     ]
    }
   ],
   "source": [
    "# How datasets look like?\n",
    "# Padding = 5\n",
    "print(datasets[57])"
   ]
  },
  {
   "cell_type": "code",
   "execution_count": 9,
   "metadata": {
    "collapsed": true
   },
   "outputs": [],
   "source": [
    "def prepare_dataset(datasets):\n",
    "    input_text = list()\n",
    "    for context, label in datasets:    \n",
    "        indexed_text = context[:window_size]\n",
    "        input_text.append([indexed_text,label]) \n",
    "    random.shuffle(input_text)\n",
    "    return input_text\n",
    "\n",
    "input_data = prepare_dataset(datasets)\n",
    "train_data = input_data[:int(len(input_data)*0.6)]\n",
    "test_data = input_data[int(len(input_data)*0.6):int(len(input_data)*0.8)]\n",
    "val_data = input_data[int(len(input_data)*0.8):]\n",
    "\n",
    "del input_data\n",
    "\n",
    "train_input = [data[0] for data in train_data]\n",
    "train_target = [data[1] for data in train_data]\n",
    "\n",
    "del train_data\n",
    "\n",
    "test_input = [data[0] for data in test_data]\n",
    "test_target = [data[1] for data in test_data]\n",
    "\n",
    "del test_data\n",
    "\n",
    "val_input = [data[0] for data in val_data]\n",
    "val_target = [data[1] for data in val_data]\n",
    "\n",
    "del val_data\n",
    "\n",
    "train_input = np.array(train_input)\n",
    "test_input = np.array(test_input)\n",
    "val_input = np.array(val_input)\n",
    "\n",
    "train_target = np.array(train_target)\n",
    "test_target = np.array(test_target)\n",
    "val_target = np.array(val_target)"
   ]
  },
  {
   "cell_type": "code",
   "execution_count": 3,
   "metadata": {
    "collapsed": true
   },
   "outputs": [],
   "source": [
    "uses = '500-p.pkl'"
   ]
  },
  {
   "cell_type": "code",
   "execution_count": 11,
   "metadata": {
    "collapsed": true
   },
   "outputs": [],
   "source": [
    "save(train_input,'data/train_input-' + uses)\n",
    "save(test_input,'data/test_input-' + uses)\n",
    "save(val_input,'data/val_input-' + uses)\n",
    "save(train_target,'data/train_target-' + uses)\n",
    "save(test_target,'data/test_target-' + uses)\n",
    "save(val_target,'data/val_target-' + uses)"
   ]
  },
  {
   "cell_type": "code",
   "execution_count": 4,
   "metadata": {
    "collapsed": true
   },
   "outputs": [],
   "source": [
    "train_input = load('data/train_input-' + uses)\n",
    "test_input = load('data/test_input-' + uses)\n",
    "val_input = load('data/val_input-' + uses)\n",
    "train_target = load('data/train_target-' + uses)\n",
    "test_target = load('data/test_target-' + uses)\n",
    "val_target = load('data/val_target-' + uses)"
   ]
  },
  {
   "cell_type": "code",
   "execution_count": 15,
   "metadata": {},
   "outputs": [],
   "source": [
    "# Embedding 50 dim\n",
    "# Conv1D 1000 filters with 20 kernel_size\n",
    "# Bi-GRU 2 layer with 1000 unit (each-layer)\n",
    "# Dropout 20% every layer\n",
    "def get_model():\n",
    "    cls_model = Sequential()\n",
    "    cls_model.add(Embedding(len(CHARS), 50, input_length=window_size))\n",
    "    cls_model.add(Dropout(0.2))\n",
    "    cls_model.add(Conv1D(1000, 20, activation='relu'))\n",
    "    cls_model.add(Dropout(0.2))\n",
    "    cls_model.add(Bidirectional(GRU(500, return_sequences=True)))\n",
    "    cls_model.add(Dropout(0.2))\n",
    "    cls_model.add(Bidirectional(GRU(500)))\n",
    "    cls_model.add(Dropout(0.2))\n",
    "    cls_model.add(Dense(window_size, activation='sigmoid'))\n",
    "    cls_model.compile(loss='binary_crossentropy', optimizer='rmsprop', metrics=['accuracy'])\n",
    "    cls_model.summary()\n",
    "    return cls_model"
   ]
  },
  {
   "cell_type": "code",
   "execution_count": 16,
   "metadata": {},
   "outputs": [],
   "source": [
    "# Set the name of model (version)\n",
    "hype = '-j'"
   ]
  },
  {
   "cell_type": "code",
   "execution_count": 10,
   "metadata": {
    "scrolled": true
   },
   "outputs": [
    {
     "name": "stdout",
     "output_type": "stream",
     "text": [
      "_________________________________________________________________\n",
      "Layer (type)                 Output Shape              Param #   \n",
      "=================================================================\n",
      "embedding_2 (Embedding)      (None, 500, 50)           300       \n",
      "_________________________________________________________________\n",
      "dropout_5 (Dropout)          (None, 500, 50)           0         \n",
      "_________________________________________________________________\n",
      "conv1d_2 (Conv1D)            (None, 481, 1000)         1001000   \n",
      "_________________________________________________________________\n",
      "dropout_6 (Dropout)          (None, 481, 1000)         0         \n",
      "_________________________________________________________________\n",
      "bidirectional_3 (Bidirection (None, 481, 1000)         4503000   \n",
      "_________________________________________________________________\n",
      "dropout_7 (Dropout)          (None, 481, 1000)         0         \n",
      "_________________________________________________________________\n",
      "bidirectional_4 (Bidirection (None, 1000)              4503000   \n",
      "_________________________________________________________________\n",
      "dropout_8 (Dropout)          (None, 1000)              0         \n",
      "_________________________________________________________________\n",
      "dense_2 (Dense)              (None, 500)               500500    \n",
      "=================================================================\n",
      "Total params: 10,507,800\n",
      "Trainable params: 10,507,800\n",
      "Non-trainable params: 0\n",
      "_________________________________________________________________\n"
     ]
    }
   ],
   "source": [
    "filepath = 'stat/weights' + hype + '.h5'\n",
    "checkpoint = ModelCheckpoint(filepath, \n",
    "                             monitor='val_loss', \n",
    "                             verbose=1, \n",
    "                             save_best_only=True,\n",
    "                             save_weights_only=True,\n",
    "                             mode='min')\n",
    "csv_logger = CSVLogger('stat/training_history' + hype + '.csv')\n",
    "history = History()\n",
    "\n",
    "callbacks_list = [checkpoint, history, csv_logger]\n",
    "cls_model = get_model()"
   ]
  },
  {
   "cell_type": "code",
   "execution_count": 11,
   "metadata": {},
   "outputs": [
    {
     "name": "stdout",
     "output_type": "stream",
     "text": [
      "Train on 10041 samples, validate on 3348 samples\n",
      "Epoch 1/30\n",
      "10016/10041 [============================>.] - ETA: 2s - loss: 0.1100 - acc: 0.9754Epoch 00000: val_loss improved from inf to 0.09086, saving model to stat/w/weights-jet.h5\n",
      "10041/10041 [==============================] - 940s - loss: 0.1100 - acc: 0.9754 - val_loss: 0.0909 - val_acc: 0.9793\n",
      "Epoch 2/30\n",
      "10016/10041 [============================>.] - ETA: 2s - loss: 0.0822 - acc: 0.9787Epoch 00001: val_loss improved from 0.09086 to 0.06970, saving model to stat/w/weights-jet.h5\n",
      "10041/10041 [==============================] - 944s - loss: 0.0822 - acc: 0.9787 - val_loss: 0.0697 - val_acc: 0.9815\n",
      "Epoch 3/30\n",
      "10016/10041 [============================>.] - ETA: 2s - loss: 0.0711 - acc: 0.9803Epoch 00002: val_loss improved from 0.06970 to 0.06335, saving model to stat/w/weights-jet.h5\n",
      "10041/10041 [==============================] - 944s - loss: 0.0711 - acc: 0.9803 - val_loss: 0.0633 - val_acc: 0.9822\n",
      "Epoch 4/30\n",
      "10016/10041 [============================>.] - ETA: 2s - loss: 0.0588 - acc: 0.9824Epoch 00003: val_loss improved from 0.06335 to 0.05366, saving model to stat/w/weights-jet.h5\n",
      "10041/10041 [==============================] - 936s - loss: 0.0588 - acc: 0.9824 - val_loss: 0.0537 - val_acc: 0.9838\n",
      "Epoch 5/30\n",
      "10016/10041 [============================>.] - ETA: 2s - loss: 0.0568 - acc: 0.9812Epoch 00004: val_loss improved from 0.05366 to 0.04898, saving model to stat/w/weights-jet.h5\n",
      "10041/10041 [==============================] - 939s - loss: 0.0568 - acc: 0.9812 - val_loss: 0.0490 - val_acc: 0.9848\n",
      "Epoch 6/30\n",
      "10016/10041 [============================>.] - ETA: 2s - loss: 0.0462 - acc: 0.9841Epoch 00005: val_loss improved from 0.04898 to 0.04473, saving model to stat/w/weights-jet.h5\n",
      "10041/10041 [==============================] - 947s - loss: 0.0462 - acc: 0.9842 - val_loss: 0.0447 - val_acc: 0.9858\n",
      "Epoch 7/30\n",
      "10016/10041 [============================>.] - ETA: 2s - loss: 0.0401 - acc: 0.9858Epoch 00006: val_loss improved from 0.04473 to 0.04323, saving model to stat/w/weights-jet.h5\n",
      "10041/10041 [==============================] - 951s - loss: 0.0401 - acc: 0.9858 - val_loss: 0.0432 - val_acc: 0.9862\n",
      "Epoch 8/30\n",
      "10016/10041 [============================>.] - ETA: 2s - loss: 0.0371 - acc: 0.9867Epoch 00007: val_loss improved from 0.04323 to 0.04002, saving model to stat/w/weights-jet.h5\n",
      "10041/10041 [==============================] - 945s - loss: 0.0371 - acc: 0.9867 - val_loss: 0.0400 - val_acc: 0.9874\n",
      "Epoch 9/30\n",
      "10016/10041 [============================>.] - ETA: 2s - loss: 0.0353 - acc: 0.9872Epoch 00008: val_loss did not improve\n",
      "10041/10041 [==============================] - 946s - loss: 0.0353 - acc: 0.9872 - val_loss: 0.0471 - val_acc: 0.9853\n",
      "Epoch 10/30\n",
      "10016/10041 [============================>.] - ETA: 2s - loss: 0.0420 - acc: 0.9853Epoch 00009: val_loss did not improve\n",
      "10041/10041 [==============================] - 942s - loss: 0.0420 - acc: 0.9853 - val_loss: 0.0519 - val_acc: 0.9836\n",
      "Epoch 11/30\n",
      "10016/10041 [============================>.] - ETA: 2s - loss: 0.0374 - acc: 0.9867Epoch 00010: val_loss did not improve\n",
      "10041/10041 [==============================] - 946s - loss: 0.0374 - acc: 0.9867 - val_loss: 0.0422 - val_acc: 0.9872\n",
      "Epoch 12/30\n",
      "10016/10041 [============================>.] - ETA: 2s - loss: 0.0330 - acc: 0.9879Epoch 00011: val_loss did not improve\n",
      "10041/10041 [==============================] - 949s - loss: 0.0330 - acc: 0.9879 - val_loss: 0.0409 - val_acc: 0.9877\n",
      "Epoch 13/30\n",
      "10016/10041 [============================>.] - ETA: 2s - loss: 0.0335 - acc: 0.9880Epoch 00012: val_loss did not improve\n",
      "10041/10041 [==============================] - 950s - loss: 0.0335 - acc: 0.9880 - val_loss: 0.0425 - val_acc: 0.9874\n",
      "Epoch 14/30\n",
      "10016/10041 [============================>.] - ETA: 2s - loss: 0.0328 - acc: 0.9881Epoch 00013: val_loss did not improve\n",
      "10041/10041 [==============================] - 951s - loss: 0.0328 - acc: 0.9881 - val_loss: 0.0427 - val_acc: 0.9877\n",
      "Epoch 15/30\n",
      "10016/10041 [============================>.] - ETA: 2s - loss: 0.0325 - acc: 0.9881Epoch 00014: val_loss did not improve\n",
      "10041/10041 [==============================] - 949s - loss: 0.0325 - acc: 0.9881 - val_loss: 0.0409 - val_acc: 0.9880\n",
      "Epoch 16/30\n",
      " 3200/10041 [========>.....................] - ETA: 588s - loss: 0.0295 - acc: 0.9891"
     ]
    },
    {
     "ename": "KeyboardInterrupt",
     "evalue": "",
     "output_type": "error",
     "traceback": [
      "\u001b[1;31m---------------------------------------------------------------------------\u001b[0m",
      "\u001b[1;31mKeyboardInterrupt\u001b[0m                         Traceback (most recent call last)",
      "\u001b[1;32m<ipython-input-11-5bc7e037c027>\u001b[0m in \u001b[0;36m<module>\u001b[1;34m()\u001b[0m\n\u001b[0;32m      5\u001b[0m               \u001b[0mverbose\u001b[0m \u001b[1;33m=\u001b[0m \u001b[1;36m1\u001b[0m\u001b[1;33m,\u001b[0m\u001b[1;33m\u001b[0m\u001b[0m\n\u001b[0;32m      6\u001b[0m               \u001b[0mcallbacks\u001b[0m \u001b[1;33m=\u001b[0m \u001b[0mcallbacks_list\u001b[0m\u001b[1;33m,\u001b[0m\u001b[1;33m\u001b[0m\u001b[0m\n\u001b[1;32m----> 7\u001b[1;33m               \u001b[0mvalidation_data\u001b[0m \u001b[1;33m=\u001b[0m \u001b[1;33m[\u001b[0m\u001b[0mval_input\u001b[0m\u001b[1;33m,\u001b[0m \u001b[0mval_target\u001b[0m\u001b[1;33m]\u001b[0m\u001b[1;33m\u001b[0m\u001b[0m\n\u001b[0m\u001b[0;32m      8\u001b[0m )\n",
      "\u001b[1;32m/home/ekapolc/.env/lib/python3.5/site-packages/keras/models.py\u001b[0m in \u001b[0;36mfit\u001b[1;34m(self, x, y, batch_size, epochs, verbose, callbacks, validation_split, validation_data, shuffle, class_weight, sample_weight, initial_epoch, **kwargs)\u001b[0m\n\u001b[0;32m    865\u001b[0m                               \u001b[0mclass_weight\u001b[0m\u001b[1;33m=\u001b[0m\u001b[0mclass_weight\u001b[0m\u001b[1;33m,\u001b[0m\u001b[1;33m\u001b[0m\u001b[0m\n\u001b[0;32m    866\u001b[0m                               \u001b[0msample_weight\u001b[0m\u001b[1;33m=\u001b[0m\u001b[0msample_weight\u001b[0m\u001b[1;33m,\u001b[0m\u001b[1;33m\u001b[0m\u001b[0m\n\u001b[1;32m--> 867\u001b[1;33m                               initial_epoch=initial_epoch)\n\u001b[0m\u001b[0;32m    868\u001b[0m \u001b[1;33m\u001b[0m\u001b[0m\n\u001b[0;32m    869\u001b[0m     def evaluate(self, x, y, batch_size=32, verbose=1,\n",
      "\u001b[1;32m/home/ekapolc/.env/lib/python3.5/site-packages/keras/engine/training.py\u001b[0m in \u001b[0;36mfit\u001b[1;34m(self, x, y, batch_size, epochs, verbose, callbacks, validation_split, validation_data, shuffle, class_weight, sample_weight, initial_epoch, steps_per_epoch, validation_steps, **kwargs)\u001b[0m\n\u001b[0;32m   1596\u001b[0m                               \u001b[0minitial_epoch\u001b[0m\u001b[1;33m=\u001b[0m\u001b[0minitial_epoch\u001b[0m\u001b[1;33m,\u001b[0m\u001b[1;33m\u001b[0m\u001b[0m\n\u001b[0;32m   1597\u001b[0m                               \u001b[0msteps_per_epoch\u001b[0m\u001b[1;33m=\u001b[0m\u001b[0msteps_per_epoch\u001b[0m\u001b[1;33m,\u001b[0m\u001b[1;33m\u001b[0m\u001b[0m\n\u001b[1;32m-> 1598\u001b[1;33m                               validation_steps=validation_steps)\n\u001b[0m\u001b[0;32m   1599\u001b[0m \u001b[1;33m\u001b[0m\u001b[0m\n\u001b[0;32m   1600\u001b[0m     def evaluate(self, x, y,\n",
      "\u001b[1;32m/home/ekapolc/.env/lib/python3.5/site-packages/keras/engine/training.py\u001b[0m in \u001b[0;36m_fit_loop\u001b[1;34m(self, f, ins, out_labels, batch_size, epochs, verbose, callbacks, val_f, val_ins, shuffle, callback_metrics, initial_epoch, steps_per_epoch, validation_steps)\u001b[0m\n\u001b[0;32m   1181\u001b[0m                     \u001b[0mbatch_logs\u001b[0m\u001b[1;33m[\u001b[0m\u001b[1;34m'size'\u001b[0m\u001b[1;33m]\u001b[0m \u001b[1;33m=\u001b[0m \u001b[0mlen\u001b[0m\u001b[1;33m(\u001b[0m\u001b[0mbatch_ids\u001b[0m\u001b[1;33m)\u001b[0m\u001b[1;33m\u001b[0m\u001b[0m\n\u001b[0;32m   1182\u001b[0m                     \u001b[0mcallbacks\u001b[0m\u001b[1;33m.\u001b[0m\u001b[0mon_batch_begin\u001b[0m\u001b[1;33m(\u001b[0m\u001b[0mbatch_index\u001b[0m\u001b[1;33m,\u001b[0m \u001b[0mbatch_logs\u001b[0m\u001b[1;33m)\u001b[0m\u001b[1;33m\u001b[0m\u001b[0m\n\u001b[1;32m-> 1183\u001b[1;33m                     \u001b[0mouts\u001b[0m \u001b[1;33m=\u001b[0m \u001b[0mf\u001b[0m\u001b[1;33m(\u001b[0m\u001b[0mins_batch\u001b[0m\u001b[1;33m)\u001b[0m\u001b[1;33m\u001b[0m\u001b[0m\n\u001b[0m\u001b[0;32m   1184\u001b[0m                     \u001b[1;32mif\u001b[0m \u001b[1;32mnot\u001b[0m \u001b[0misinstance\u001b[0m\u001b[1;33m(\u001b[0m\u001b[0mouts\u001b[0m\u001b[1;33m,\u001b[0m \u001b[0mlist\u001b[0m\u001b[1;33m)\u001b[0m\u001b[1;33m:\u001b[0m\u001b[1;33m\u001b[0m\u001b[0m\n\u001b[0;32m   1185\u001b[0m                         \u001b[0mouts\u001b[0m \u001b[1;33m=\u001b[0m \u001b[1;33m[\u001b[0m\u001b[0mouts\u001b[0m\u001b[1;33m]\u001b[0m\u001b[1;33m\u001b[0m\u001b[0m\n",
      "\u001b[1;32m/home/ekapolc/.env/lib/python3.5/site-packages/keras/backend/tensorflow_backend.py\u001b[0m in \u001b[0;36m__call__\u001b[1;34m(self, inputs)\u001b[0m\n\u001b[0;32m   2271\u001b[0m         updated = session.run(self.outputs + [self.updates_op],\n\u001b[0;32m   2272\u001b[0m                               \u001b[0mfeed_dict\u001b[0m\u001b[1;33m=\u001b[0m\u001b[0mfeed_dict\u001b[0m\u001b[1;33m,\u001b[0m\u001b[1;33m\u001b[0m\u001b[0m\n\u001b[1;32m-> 2273\u001b[1;33m                               **self.session_kwargs)\n\u001b[0m\u001b[0;32m   2274\u001b[0m         \u001b[1;32mreturn\u001b[0m \u001b[0mupdated\u001b[0m\u001b[1;33m[\u001b[0m\u001b[1;33m:\u001b[0m\u001b[0mlen\u001b[0m\u001b[1;33m(\u001b[0m\u001b[0mself\u001b[0m\u001b[1;33m.\u001b[0m\u001b[0moutputs\u001b[0m\u001b[1;33m)\u001b[0m\u001b[1;33m]\u001b[0m\u001b[1;33m\u001b[0m\u001b[0m\n\u001b[0;32m   2275\u001b[0m \u001b[1;33m\u001b[0m\u001b[0m\n",
      "\u001b[1;32m/home/ekapolc/.env/lib/python3.5/site-packages/tensorflow/python/client/session.py\u001b[0m in \u001b[0;36mrun\u001b[1;34m(self, fetches, feed_dict, options, run_metadata)\u001b[0m\n\u001b[0;32m    893\u001b[0m     \u001b[1;32mtry\u001b[0m\u001b[1;33m:\u001b[0m\u001b[1;33m\u001b[0m\u001b[0m\n\u001b[0;32m    894\u001b[0m       result = self._run(None, fetches, feed_dict, options_ptr,\n\u001b[1;32m--> 895\u001b[1;33m                          run_metadata_ptr)\n\u001b[0m\u001b[0;32m    896\u001b[0m       \u001b[1;32mif\u001b[0m \u001b[0mrun_metadata\u001b[0m\u001b[1;33m:\u001b[0m\u001b[1;33m\u001b[0m\u001b[0m\n\u001b[0;32m    897\u001b[0m         \u001b[0mproto_data\u001b[0m \u001b[1;33m=\u001b[0m \u001b[0mtf_session\u001b[0m\u001b[1;33m.\u001b[0m\u001b[0mTF_GetBuffer\u001b[0m\u001b[1;33m(\u001b[0m\u001b[0mrun_metadata_ptr\u001b[0m\u001b[1;33m)\u001b[0m\u001b[1;33m\u001b[0m\u001b[0m\n",
      "\u001b[1;32m/home/ekapolc/.env/lib/python3.5/site-packages/tensorflow/python/client/session.py\u001b[0m in \u001b[0;36m_run\u001b[1;34m(self, handle, fetches, feed_dict, options, run_metadata)\u001b[0m\n\u001b[0;32m   1122\u001b[0m     \u001b[1;32mif\u001b[0m \u001b[0mfinal_fetches\u001b[0m \u001b[1;32mor\u001b[0m \u001b[0mfinal_targets\u001b[0m \u001b[1;32mor\u001b[0m \u001b[1;33m(\u001b[0m\u001b[0mhandle\u001b[0m \u001b[1;32mand\u001b[0m \u001b[0mfeed_dict_tensor\u001b[0m\u001b[1;33m)\u001b[0m\u001b[1;33m:\u001b[0m\u001b[1;33m\u001b[0m\u001b[0m\n\u001b[0;32m   1123\u001b[0m       results = self._do_run(handle, final_targets, final_fetches,\n\u001b[1;32m-> 1124\u001b[1;33m                              feed_dict_tensor, options, run_metadata)\n\u001b[0m\u001b[0;32m   1125\u001b[0m     \u001b[1;32melse\u001b[0m\u001b[1;33m:\u001b[0m\u001b[1;33m\u001b[0m\u001b[0m\n\u001b[0;32m   1126\u001b[0m       \u001b[0mresults\u001b[0m \u001b[1;33m=\u001b[0m \u001b[1;33m[\u001b[0m\u001b[1;33m]\u001b[0m\u001b[1;33m\u001b[0m\u001b[0m\n",
      "\u001b[1;32m/home/ekapolc/.env/lib/python3.5/site-packages/tensorflow/python/client/session.py\u001b[0m in \u001b[0;36m_do_run\u001b[1;34m(self, handle, target_list, fetch_list, feed_dict, options, run_metadata)\u001b[0m\n\u001b[0;32m   1319\u001b[0m     \u001b[1;32mif\u001b[0m \u001b[0mhandle\u001b[0m \u001b[1;32mis\u001b[0m \u001b[1;32mNone\u001b[0m\u001b[1;33m:\u001b[0m\u001b[1;33m\u001b[0m\u001b[0m\n\u001b[0;32m   1320\u001b[0m       return self._do_call(_run_fn, self._session, feeds, fetches, targets,\n\u001b[1;32m-> 1321\u001b[1;33m                            options, run_metadata)\n\u001b[0m\u001b[0;32m   1322\u001b[0m     \u001b[1;32melse\u001b[0m\u001b[1;33m:\u001b[0m\u001b[1;33m\u001b[0m\u001b[0m\n\u001b[0;32m   1323\u001b[0m       \u001b[1;32mreturn\u001b[0m \u001b[0mself\u001b[0m\u001b[1;33m.\u001b[0m\u001b[0m_do_call\u001b[0m\u001b[1;33m(\u001b[0m\u001b[0m_prun_fn\u001b[0m\u001b[1;33m,\u001b[0m \u001b[0mself\u001b[0m\u001b[1;33m.\u001b[0m\u001b[0m_session\u001b[0m\u001b[1;33m,\u001b[0m \u001b[0mhandle\u001b[0m\u001b[1;33m,\u001b[0m \u001b[0mfeeds\u001b[0m\u001b[1;33m,\u001b[0m \u001b[0mfetches\u001b[0m\u001b[1;33m)\u001b[0m\u001b[1;33m\u001b[0m\u001b[0m\n",
      "\u001b[1;32m/home/ekapolc/.env/lib/python3.5/site-packages/tensorflow/python/client/session.py\u001b[0m in \u001b[0;36m_do_call\u001b[1;34m(self, fn, *args)\u001b[0m\n\u001b[0;32m   1325\u001b[0m   \u001b[1;32mdef\u001b[0m \u001b[0m_do_call\u001b[0m\u001b[1;33m(\u001b[0m\u001b[0mself\u001b[0m\u001b[1;33m,\u001b[0m \u001b[0mfn\u001b[0m\u001b[1;33m,\u001b[0m \u001b[1;33m*\u001b[0m\u001b[0margs\u001b[0m\u001b[1;33m)\u001b[0m\u001b[1;33m:\u001b[0m\u001b[1;33m\u001b[0m\u001b[0m\n\u001b[0;32m   1326\u001b[0m     \u001b[1;32mtry\u001b[0m\u001b[1;33m:\u001b[0m\u001b[1;33m\u001b[0m\u001b[0m\n\u001b[1;32m-> 1327\u001b[1;33m       \u001b[1;32mreturn\u001b[0m \u001b[0mfn\u001b[0m\u001b[1;33m(\u001b[0m\u001b[1;33m*\u001b[0m\u001b[0margs\u001b[0m\u001b[1;33m)\u001b[0m\u001b[1;33m\u001b[0m\u001b[0m\n\u001b[0m\u001b[0;32m   1328\u001b[0m     \u001b[1;32mexcept\u001b[0m \u001b[0merrors\u001b[0m\u001b[1;33m.\u001b[0m\u001b[0mOpError\u001b[0m \u001b[1;32mas\u001b[0m \u001b[0me\u001b[0m\u001b[1;33m:\u001b[0m\u001b[1;33m\u001b[0m\u001b[0m\n\u001b[0;32m   1329\u001b[0m       \u001b[0mmessage\u001b[0m \u001b[1;33m=\u001b[0m \u001b[0mcompat\u001b[0m\u001b[1;33m.\u001b[0m\u001b[0mas_text\u001b[0m\u001b[1;33m(\u001b[0m\u001b[0me\u001b[0m\u001b[1;33m.\u001b[0m\u001b[0mmessage\u001b[0m\u001b[1;33m)\u001b[0m\u001b[1;33m\u001b[0m\u001b[0m\n",
      "\u001b[1;32m/home/ekapolc/.env/lib/python3.5/site-packages/tensorflow/python/client/session.py\u001b[0m in \u001b[0;36m_run_fn\u001b[1;34m(session, feed_dict, fetch_list, target_list, options, run_metadata)\u001b[0m\n\u001b[0;32m   1304\u001b[0m           return tf_session.TF_Run(session, options,\n\u001b[0;32m   1305\u001b[0m                                    \u001b[0mfeed_dict\u001b[0m\u001b[1;33m,\u001b[0m \u001b[0mfetch_list\u001b[0m\u001b[1;33m,\u001b[0m \u001b[0mtarget_list\u001b[0m\u001b[1;33m,\u001b[0m\u001b[1;33m\u001b[0m\u001b[0m\n\u001b[1;32m-> 1306\u001b[1;33m                                    status, run_metadata)\n\u001b[0m\u001b[0;32m   1307\u001b[0m \u001b[1;33m\u001b[0m\u001b[0m\n\u001b[0;32m   1308\u001b[0m     \u001b[1;32mdef\u001b[0m \u001b[0m_prun_fn\u001b[0m\u001b[1;33m(\u001b[0m\u001b[0msession\u001b[0m\u001b[1;33m,\u001b[0m \u001b[0mhandle\u001b[0m\u001b[1;33m,\u001b[0m \u001b[0mfeed_dict\u001b[0m\u001b[1;33m,\u001b[0m \u001b[0mfetch_list\u001b[0m\u001b[1;33m)\u001b[0m\u001b[1;33m:\u001b[0m\u001b[1;33m\u001b[0m\u001b[0m\n",
      "\u001b[1;31mKeyboardInterrupt\u001b[0m: "
     ]
    }
   ],
   "source": [
    "cls_model.fit(train_input,\n",
    "              train_target,\n",
    "              batch_size = 32,\n",
    "              epochs = 30,\n",
    "              verbose = 1,\n",
    "              callbacks = callbacks_list,\n",
    "              validation_data = [val_input, val_target]\n",
    ")"
   ]
  },
  {
   "cell_type": "code",
   "execution_count": 12,
   "metadata": {
    "collapsed": true
   },
   "outputs": [],
   "source": [
    "# Incase you want to save the latest model no matter what\n",
    "cls_model.save_weights('stat/weights'+hype+'-full.h5')"
   ]
  },
  {
   "cell_type": "code",
   "execution_count": 19,
   "metadata": {},
   "outputs": [
    {
     "name": "stdout",
     "output_type": "stream",
     "text": [
      "_________________________________________________________________\n",
      "Layer (type)                 Output Shape              Param #   \n",
      "=================================================================\n",
      "embedding_3 (Embedding)      (None, 500, 50)           300       \n",
      "_________________________________________________________________\n",
      "dropout_9 (Dropout)          (None, 500, 50)           0         \n",
      "_________________________________________________________________\n",
      "conv1d_3 (Conv1D)            (None, 481, 1000)         1001000   \n",
      "_________________________________________________________________\n",
      "dropout_10 (Dropout)         (None, 481, 1000)         0         \n",
      "_________________________________________________________________\n",
      "bidirectional_5 (Bidirection (None, 481, 1000)         4503000   \n",
      "_________________________________________________________________\n",
      "dropout_11 (Dropout)         (None, 481, 1000)         0         \n",
      "_________________________________________________________________\n",
      "bidirectional_6 (Bidirection (None, 1000)              4503000   \n",
      "_________________________________________________________________\n",
      "dropout_12 (Dropout)         (None, 1000)              0         \n",
      "_________________________________________________________________\n",
      "dense_3 (Dense)              (None, 500)               500500    \n",
      "=================================================================\n",
      "Total params: 10,507,800\n",
      "Trainable params: 10,507,800\n",
      "Non-trainable params: 0\n",
      "_________________________________________________________________\n"
     ]
    }
   ],
   "source": [
    "cls_model = get_model()\n",
    "cls_model.load_weights('stat/weights'+hype+'.h5')"
   ]
  },
  {
   "cell_type": "code",
   "execution_count": 17,
   "metadata": {},
   "outputs": [
    {
     "name": "stdout",
     "output_type": "stream",
     "text": [
      "Correct (1): 25884\n",
      "Correct (0): 1628885\n",
      "Wrong (0->1): 8651\n",
      "Miss (1->0): 10080\n",
      "Recall: 0.7197197197197197\n",
      "Precision: 0.7495005067323006\n",
      "F-score: 0.7343082880608237\n",
      "Accuracy: 0.9888072901105468\n"
     ]
    }
   ],
   "source": [
    "def evaluate(x_test, y_test, model):\n",
    "    y_pred = model.predict(x_test)\n",
    "    \n",
    "    y_pred[y_pred >= 0.5] = 1\n",
    "    y_pred[y_pred < 0.5] = 0\n",
    "\n",
    "    one_correct = 0\n",
    "    zero_correct = 0\n",
    "    wrong = 0\n",
    "    miss = 0\n",
    "    for i in range(len(x_test)):\n",
    "        for j in range(len(y_pred[i])):\n",
    "            if y_test[i][j] == 1 and y_pred[i][j] == 1:\n",
    "                one_correct += 1\n",
    "            elif y_test[i][j] == 0 and y_pred[i][j] == 1:\n",
    "                wrong += 1\n",
    "            elif y_test[i][j] == 1 and y_pred[i][j] == 0:\n",
    "                miss += 1\n",
    "            elif y_test[i][j] == 0 and y_pred[i][j] == 0:\n",
    "                zero_correct += 1\n",
    "\n",
    "    return one_correct, zero_correct, wrong, miss\n",
    "    \n",
    "one_correct, zero_correct, wrong, miss = evaluate(test_input, test_target, cls_model)\n",
    "precision = one_correct/(one_correct+wrong)\n",
    "recall = one_correct/(one_correct+miss)\n",
    "print(\"Correct (1):\", one_correct)\n",
    "print(\"Correct (0):\", zero_correct)\n",
    "print(\"Wrong (0->1):\", wrong)\n",
    "print(\"Miss (1->0):\", miss)\n",
    "print(\"Recall:\", recall)\n",
    "print(\"Precision:\", precision)\n",
    "print(\"F-score:\", 2*(recall*precision)/(recall+precision))\n",
    "print(\"Accuracy:\", (one_correct+zero_correct)/(one_correct+zero_correct+wrong+miss))"
   ]
  },
  {
   "cell_type": "code",
   "execution_count": 18,
   "metadata": {},
   "outputs": [
    {
     "data": {
      "text/plain": [
       "<matplotlib.text.Text at 0x7f6f44829da0>"
      ]
     },
     "execution_count": 18,
     "metadata": {},
     "output_type": "execute_result"
    },
    {
     "data": {
      "text/plain": [
       "<matplotlib.figure.Figure at 0x7f6f45fa2c88>"
      ]
     },
     "metadata": {},
     "output_type": "display_data"
    },
    {
     "data": {
      "image/png": "[encoded data removed]",
      "text/plain": [
       "<matplotlib.figure.Figure at 0x7f6f4a0756a0>"
      ]
     },
     "metadata": {},
     "output_type": "display_data"
    }
   ],
   "source": [
    "hist = pd.read_csv('stat/training_history'+hype+'.csv')\n",
    "hist = hist.drop('epoch', axis=1)\n",
    "plt.figure(figsize=(13,10))\n",
    "hist.plot(figsize=(13,10))\n",
    "plt.title('Training (categorical)')"
   ]
  },
  {
   "cell_type": "markdown",
   "metadata": {},
   "source": [
    "## Use model to predict"
   ]
  },
  {
   "cell_type": "code",
   "execution_count": null,
   "metadata": {},
   "outputs": [],
   "source": [
    "# Read fasta format\n",
    "test_inf = open('data/test_set.fa')\n",
    "bases_test = []\n",
    "named = []\n",
    "catch = ''\n",
    "for t in test_inf:\n",
    "    if t[0] == '>':\n",
    "        named.append(t)\n",
    "        if len(catch) > 0:\n",
    "            bases_test.append(catch)\n",
    "            catch = ''\n",
    "    else:\n",
    "        catch += t.replace('\\n','')\n",
    "\n",
    "bases_test.append(catch)  \n",
    "\n",
    "# Pad\n",
    "test_set = []\n",
    "for i in range(len(bases_test)):\n",
    "    while len(bases_test[i]) < 500:\n",
    "        bases_test[i] += 'P'\n",
    "\n",
    "test_set_raw = []\n",
    "named_raw = []\n",
    "for i in range(len(bases_test)):\n",
    "    t = bases_test[i]\n",
    "    if len(t) > 500:\n",
    "        continue\n",
    "    emb = []\n",
    "    for alpha in t:\n",
    "        emb.append(CHARS_MAP[alpha])\n",
    "    test_set.append(emb)\n",
    "    test_set_raw.append(t)\n",
    "    named_raw.append(named[i])\n",
    "test_set = np.array(test_set)"
   ]
  },
  {
   "cell_type": "code",
   "execution_count": null,
   "metadata": {},
   "outputs": [],
   "source": [
    "# Embedding 50 dim\n",
    "# Conv1D 1000 filters with 20 kernel_size\n",
    "# Bi-GRU 2 layer with 1000 unit (each-layer)\n",
    "# Dropout 20% every layer\n",
    "def get_model():\n",
    "    cls_model = Sequential()\n",
    "    cls_model.add(Embedding(len(CHARS), 50, input_length=window_size))\n",
    "    cls_model.add(Dropout(0.2))\n",
    "    cls_model.add(Conv1D(1000, 20, activation='relu'))\n",
    "    cls_model.add(Dropout(0.2))\n",
    "    cls_model.add(Bidirectional(GRU(500, return_sequences=True)))\n",
    "    cls_model.add(Dropout(0.2))\n",
    "    cls_model.add(Bidirectional(GRU(500)))\n",
    "    cls_model.add(Dropout(0.2))\n",
    "    cls_model.add(Dense(window_size, activation='sigmoid'))\n",
    "    cls_model.compile(loss='binary_crossentropy', optimizer='rmsprop', metrics=['accuracy'])\n",
    "    cls_model.summary()\n",
    "    return cls_model\n",
    "\n",
    "def single_predict(x_test, model):\n",
    "    y_pred = model.predict(np.array([x_test]))\n",
    "    y_pred[y_pred >= 0.5] = 1\n",
    "    y_pred[y_pred < 0.5] = 0\n",
    "    return np.array([int(e) for e in y_pred[0]])\n",
    "\n",
    "def single_predict_keep_prob(x_test, model):\n",
    "    y_pred = model.predict(np.array([x_test]))\n",
    "    return y_pred[0]\n",
    "\n",
    "cls_model = get_model()\n",
    "cls_model.load_weights('stat/weights'+hype+'.h5')"
   ]
  },
  {
   "cell_type": "code",
   "execution_count": null,
   "metadata": {},
   "outputs": [],
   "source": [
    "test_result = []\n",
    "for i in range(len(test_set)):\n",
    "    pred = single_predict(test_set[i], cls_model)\n",
    "    test_result.append(pred)\n",
    "    \n",
    "done = []\n",
    "for i in range(len(test_result)):\n",
    "    site = ''\n",
    "    cap = ''\n",
    "    first = -1\n",
    "    for j in range(len(test_result[i])):\n",
    "        if test_set_raw[i][j] == 'P':\n",
    "            break\n",
    "        if test_result[i][j] == 1:\n",
    "            if first == -1:\n",
    "                first = j\n",
    "            site += test_set_raw[i][j].upper()\n",
    "            cap += test_set_raw[i][j].upper()\n",
    "        else:\n",
    "            site += test_set_raw[i][j].lower()\n",
    "    if len(cap) == 0:\n",
    "        cap = '-'\n",
    "    done.append([named[i].replace('\\n','')[1:],site,cap,first])\n",
    "\n",
    "import csv\n",
    "\n",
    "# Write CSV file\n",
    "with open('predict-for-below-500.csv', 'w') as fp:\n",
    "    fp.write('\\ufeff')\n",
    "    writer = csv.writer(fp, delimiter=',')\n",
    "    writer.writerow([\"name\", \"full_seq\", \"miRNAsite\", \"start_index\"])  # write header\n",
    "    writer.writerows(done)"
   ]
  }
 ],
 "metadata": {
  "kernelspec": {
   "display_name": "Python 3",
   "language": "python",
   "name": "python3"
  },
  "language_info": {
   "codemirror_mode": {
    "name": "ipython",
    "version": 3
   },
   "file_extension": ".py",
   "mimetype": "text/x-python",
   "name": "python",
   "nbconvert_exporter": "python",
   "pygments_lexer": "ipython3",
   "version": "3.6.3"
  }
 },
 "nbformat": 4,
 "nbformat_minor": 2
}
